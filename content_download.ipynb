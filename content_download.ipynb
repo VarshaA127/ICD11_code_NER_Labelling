{
 "cells": [
  {
   "cell_type": "code",
   "execution_count": 1,
   "id": "923f3f00",
   "metadata": {},
   "outputs": [],
   "source": [
    "import pandas as pd\n",
    "import openpyxl\n",
    "import random\n",
    "import pickle\n",
    "import numpy as np\n",
    "import time\n",
    "\n",
    "from selenium import webdriver\n",
    "from webdriver_manager.chrome import ChromeDriverManager\n",
    "from time import sleep\n",
    "from selenium.webdriver.common.by import By"
   ]
  },
  {
   "cell_type": "code",
   "execution_count": 2,
   "id": "5a3e3623",
   "metadata": {},
   "outputs": [],
   "source": [
    "# Load the excel sheet in pandas\n",
    "excel_path = \"./LinearizationMiniOutput-MMS-en.xlsx\"\n",
    "data_xcel = pd.read_excel(excel_path)"
   ]
  },
  {
   "cell_type": "code",
   "execution_count": 3,
   "id": "ff6f7b5d",
   "metadata": {},
   "outputs": [
    {
     "name": "stderr",
     "output_type": "stream",
     "text": [
      "C:\\Users\\USER\\AppData\\Local\\Temp\\ipykernel_2712\\3261169653.py:3: DeprecationWarning: Call to deprecated function get_sheet_by_name (Use wb[sheetname]).\n",
      "  ws = wb.get_sheet_by_name('LinearizationMiniOutput-MMS-en')\n"
     ]
    }
   ],
   "source": [
    "# Also load it in workbook style to get the browser link\n",
    "wb = openpyxl.load_workbook(excel_path)\n",
    "ws = wb.get_sheet_by_name('LinearizationMiniOutput-MMS-en')"
   ]
  },
  {
   "cell_type": "code",
   "execution_count": 4,
   "id": "76b3afdf",
   "metadata": {},
   "outputs": [],
   "source": [
    "### Extraction of browser links\n",
    "\n",
    "links = []\n",
    "\n",
    "for index, row in enumerate(ws.iter_rows()):\n",
    "    hyperlink = row[10].value\n",
    "    \n",
    "    if index != 0:\n",
    "        hyperlink = hyperlink[12:-12]\n",
    "        links.append(hyperlink)"
   ]
  },
  {
   "cell_type": "code",
   "execution_count": 5,
   "id": "44ae525c",
   "metadata": {},
   "outputs": [],
   "source": [
    "### Creating a column _named as browser_links\n",
    "\n",
    "data_xcel['Browser_Links'] = links"
   ]
  },
  {
   "cell_type": "code",
   "execution_count": 6,
   "id": "a2df4e22",
   "metadata": {},
   "outputs": [],
   "source": [
    "assert len(data_xcel) == len(links)"
   ]
  },
  {
   "cell_type": "code",
   "execution_count": 7,
   "id": "a1f2356b",
   "metadata": {},
   "outputs": [],
   "source": [
    "def get_content(url):\n",
    "    \n",
    "    driver.get(url)\n",
    "    \n",
    "    # sleep for some time\n",
    "    sleep(3)\n",
    "    \n",
    "    content = \"\"\n",
    "    \n",
    "    tags = driver.find_elements(by=By.CLASS_NAME, value=\"definition\")\n",
    "    for tag in tags:\n",
    "        content += tag.text\n",
    "        \n",
    "    return content"
   ]
  },
  {
   "cell_type": "markdown",
   "id": "7222673c",
   "metadata": {},
   "source": [
    "### Automatic Downloads"
   ]
  },
  {
   "cell_type": "code",
   "execution_count": 8,
   "id": "58538b2a",
   "metadata": {},
   "outputs": [],
   "source": [
    "options = webdriver.ChromeOptions()\n",
    "options.headless = True"
   ]
  },
  {
   "cell_type": "code",
   "execution_count": 9,
   "id": "bb495a22",
   "metadata": {},
   "outputs": [
    {
     "name": "stdout",
     "output_type": "stream",
     "text": [
      "\n"
     ]
    },
    {
     "name": "stderr",
     "output_type": "stream",
     "text": [
      "[WDM] - ====== WebDriver manager ======\n",
      "[WDM] - Current google-chrome version is 102.0.5005\n",
      "[WDM] - Get LATEST chromedriver version for 102.0.5005 google-chrome\n",
      "[WDM] - Driver [C:\\Users\\USER\\.wdm\\drivers\\chromedriver\\win32\\102.0.5005.61\\chromedriver.exe] found in cache\n",
      "C:\\Users\\USER\\AppData\\Local\\Temp\\ipykernel_2712\\1031666427.py:1: DeprecationWarning: executable_path has been deprecated, please pass in a Service object\n",
      "  driver = webdriver.Chrome(ChromeDriverManager().install(), options=options)\n"
     ]
    }
   ],
   "source": [
    "driver = webdriver.Chrome(ChromeDriverManager().install(), options=options)"
   ]
  },
  {
   "cell_type": "code",
   "execution_count": 10,
   "id": "f294606e",
   "metadata": {},
   "outputs": [],
   "source": [
    "data_dict = {}\n",
    "time_taken = []"
   ]
  },
  {
   "cell_type": "code",
   "execution_count": null,
   "id": "a18f772c",
   "metadata": {},
   "outputs": [
    {
     "name": "stdout",
     "output_type": "stream",
     "text": [
      "Processed: 0/35568\n",
      "Average Time Taken : 4.798028945922852 seconds\n",
      "Processed: 50/35568\n",
      "Average Time Taken : 4.798028945922852 seconds\n",
      "Processed: 100/35568\n",
      "Average Time Taken : 4.798028945922852 seconds\n",
      "Processed: 150/35568\n",
      "Average Time Taken : 4.798028945922852 seconds\n",
      "Processed: 200/35568\n",
      "Average Time Taken : 4.798028945922852 seconds\n",
      "Processed: 250/35568\n",
      "Average Time Taken : 4.798028945922852 seconds\n",
      "Processed: 300/35568\n",
      "Average Time Taken : 4.798028945922852 seconds\n",
      "Processed: 350/35568\n",
      "Average Time Taken : 4.798028945922852 seconds\n",
      "Processed: 400/35568\n",
      "Average Time Taken : 4.798028945922852 seconds\n",
      "Processed: 450/35568\n",
      "Average Time Taken : 4.798028945922852 seconds\n",
      "Processed: 500/35568\n",
      "Average Time Taken : 4.798028945922852 seconds\n",
      "Processed: 550/35568\n",
      "Average Time Taken : 4.798028945922852 seconds\n",
      "Processed: 600/35568\n",
      "Average Time Taken : 4.798028945922852 seconds\n",
      "Processed: 650/35568\n",
      "Average Time Taken : 4.798028945922852 seconds\n",
      "Processed: 700/35568\n",
      "Average Time Taken : 4.798028945922852 seconds\n",
      "Processed: 750/35568\n",
      "Average Time Taken : 4.798028945922852 seconds\n",
      "Processed: 800/35568\n",
      "Average Time Taken : 4.798028945922852 seconds\n",
      "Processed: 850/35568\n",
      "Average Time Taken : 4.798028945922852 seconds\n",
      "Processed: 900/35568\n",
      "Average Time Taken : 4.798028945922852 seconds\n",
      "Processed: 950/35568\n",
      "Average Time Taken : 4.798028945922852 seconds\n",
      "Processed: 1000/35568\n",
      "Average Time Taken : 4.798028945922852 seconds\n",
      "Processed: 1050/35568\n",
      "Average Time Taken : 4.798028945922852 seconds\n",
      "Processed: 1100/35568\n",
      "Average Time Taken : 4.798028945922852 seconds\n",
      "Processed: 1150/35568\n",
      "Average Time Taken : 4.798028945922852 seconds\n",
      "Processed: 1200/35568\n",
      "Average Time Taken : 4.798028945922852 seconds\n",
      "Processed: 1250/35568\n",
      "Average Time Taken : 4.798028945922852 seconds\n",
      "Processed: 1300/35568\n",
      "Average Time Taken : 4.798028945922852 seconds\n",
      "Processed: 1350/35568\n",
      "Average Time Taken : 4.798028945922852 seconds\n",
      "Processed: 1400/35568\n",
      "Average Time Taken : 4.798028945922852 seconds\n",
      "Processed: 1450/35568\n",
      "Average Time Taken : 4.798028945922852 seconds\n",
      "Processed: 1500/35568\n",
      "Average Time Taken : 4.798028945922852 seconds\n",
      "Processed: 1550/35568\n",
      "Average Time Taken : 4.798028945922852 seconds\n",
      "Processed: 1600/35568\n",
      "Average Time Taken : 4.798028945922852 seconds\n",
      "Processed: 1650/35568\n",
      "Average Time Taken : 4.798028945922852 seconds\n",
      "Processed: 1700/35568\n",
      "Average Time Taken : 4.798028945922852 seconds\n",
      "Processed: 1750/35568\n",
      "Average Time Taken : 4.798028945922852 seconds\n",
      "Processed: 1800/35568\n",
      "Average Time Taken : 4.798028945922852 seconds\n",
      "Processed: 1850/35568\n",
      "Average Time Taken : 4.798028945922852 seconds\n",
      "Processed: 1900/35568\n",
      "Average Time Taken : 4.798028945922852 seconds\n",
      "Processed: 1950/35568\n",
      "Average Time Taken : 4.798028945922852 seconds\n",
      "Processed: 2000/35568\n",
      "Average Time Taken : 4.798028945922852 seconds\n",
      "Processed: 2050/35568\n",
      "Average Time Taken : 4.798028945922852 seconds\n",
      "Processed: 2100/35568\n",
      "Average Time Taken : 4.798028945922852 seconds\n",
      "Processed: 2150/35568\n",
      "Average Time Taken : 4.798028945922852 seconds\n",
      "Processed: 2200/35568\n",
      "Average Time Taken : 4.798028945922852 seconds\n",
      "Processed: 2250/35568\n",
      "Average Time Taken : 4.798028945922852 seconds\n",
      "Processed: 2300/35568\n",
      "Average Time Taken : 4.798028945922852 seconds\n",
      "Processed: 2350/35568\n",
      "Average Time Taken : 4.798028945922852 seconds\n",
      "Processed: 2400/35568\n",
      "Average Time Taken : 4.798028945922852 seconds\n",
      "Processed: 2450/35568\n",
      "Average Time Taken : 4.798028945922852 seconds\n",
      "Processed: 2500/35568\n",
      "Average Time Taken : 4.798028945922852 seconds\n",
      "Processed: 2550/35568\n",
      "Average Time Taken : 4.798028945922852 seconds\n",
      "Processed: 2600/35568\n",
      "Average Time Taken : 4.798028945922852 seconds\n",
      "Processed: 2650/35568\n",
      "Average Time Taken : 4.798028945922852 seconds\n",
      "Processed: 2700/35568\n",
      "Average Time Taken : 4.798028945922852 seconds\n",
      "Processed: 2750/35568\n",
      "Average Time Taken : 4.798028945922852 seconds\n",
      "Processed: 2800/35568\n",
      "Average Time Taken : 4.798028945922852 seconds\n",
      "Processed: 2850/35568\n",
      "Average Time Taken : 4.798028945922852 seconds\n",
      "Processed: 2900/35568\n",
      "Average Time Taken : 4.798028945922852 seconds\n",
      "Processed: 2950/35568\n",
      "Average Time Taken : 4.798028945922852 seconds\n",
      "Processed: 3000/35568\n",
      "Average Time Taken : 4.798028945922852 seconds\n",
      "Processed: 3050/35568\n",
      "Average Time Taken : 4.798028945922852 seconds\n",
      "Processed: 3100/35568\n",
      "Average Time Taken : 4.798028945922852 seconds\n",
      "Processed: 3150/35568\n",
      "Average Time Taken : 4.798028945922852 seconds\n",
      "Processed: 3200/35568\n",
      "Average Time Taken : 4.798028945922852 seconds\n",
      "Processed: 3250/35568\n",
      "Average Time Taken : 4.798028945922852 seconds\n",
      "Processed: 3300/35568\n",
      "Average Time Taken : 4.798028945922852 seconds\n",
      "Processed: 3350/35568\n",
      "Average Time Taken : 4.798028945922852 seconds\n",
      "Processed: 3400/35568\n",
      "Average Time Taken : 4.798028945922852 seconds\n",
      "Processed: 3450/35568\n",
      "Average Time Taken : 4.798028945922852 seconds\n",
      "Processed: 3500/35568\n",
      "Average Time Taken : 4.798028945922852 seconds\n",
      "Processed: 3550/35568\n",
      "Average Time Taken : 4.798028945922852 seconds\n",
      "Processed: 3600/35568\n",
      "Average Time Taken : 4.798028945922852 seconds\n",
      "Processed: 3650/35568\n",
      "Average Time Taken : 4.798028945922852 seconds\n",
      "Processed: 3700/35568\n",
      "Average Time Taken : 4.798028945922852 seconds\n",
      "Processed: 3750/35568\n",
      "Average Time Taken : 4.798028945922852 seconds\n",
      "Processed: 3800/35568\n",
      "Average Time Taken : 4.798028945922852 seconds\n",
      "Processed: 3850/35568\n",
      "Average Time Taken : 4.798028945922852 seconds\n",
      "Processed: 3900/35568\n",
      "Average Time Taken : 3.1191870971601836 seconds\n"
     ]
    }
   ],
   "source": [
    "for index, row in data_xcel.iterrows():\n",
    "    \n",
    "    if index > 9000 and index <= 18000:\n",
    "        \n",
    "        start = time.time()\n",
    "        \n",
    "        url = row['Browser_Links']\n",
    "        \n",
    "        cont = get_content(url=url)\n",
    "        \n",
    "        data_dict[index] = {\"url\": url, \"content\": cont}\n",
    "        \n",
    "        time_taken.append(time.time() - start)\n",
    "        \n",
    "    if index %50 == 0 :\n",
    "        \n",
    "        print(\"Processed: {}/{}\".format(index, len(data_xcel)))\n",
    "        print(\"Average Time Taken : {} seconds\".format(np.mean(time_taken)))"
   ]
  },
  {
   "cell_type": "code",
   "execution_count": null,
   "id": "da951de2",
   "metadata": {},
   "outputs": [],
   "source": [
    "with open('./description_9001_to_18000.pickle', 'wb') as handle:\n",
    "    pickle.dump(data_dict, handle)"
   ]
  },
  {
   "cell_type": "code",
   "execution_count": null,
   "id": "eb50a22c",
   "metadata": {},
   "outputs": [],
   "source": []
  }
 ],
 "metadata": {
  "kernelspec": {
   "display_name": "Python 3 (ipykernel)",
   "language": "python",
   "name": "python3"
  },
  "language_info": {
   "codemirror_mode": {
    "name": "ipython",
    "version": 3
   },
   "file_extension": ".py",
   "mimetype": "text/x-python",
   "name": "python",
   "nbconvert_exporter": "python",
   "pygments_lexer": "ipython3",
   "version": "3.9.7"
  }
 },
 "nbformat": 4,
 "nbformat_minor": 5
}
